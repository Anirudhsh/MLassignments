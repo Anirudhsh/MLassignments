{
  "nbformat": 4,
  "nbformat_minor": 0,
  "metadata": {
    "colab": {
      "name": "knniris.ipynb",
      "version": "0.3.2",
      "provenance": [],
      "include_colab_link": true
    },
    "kernelspec": {
      "name": "python3",
      "display_name": "Python 3"
    }
  },
  "cells": [
    {
      "cell_type": "markdown",
      "metadata": {
        "id": "view-in-github",
        "colab_type": "text"
      },
      "source": [
        "<a href=\"https://colab.research.google.com/github/Anirudhsh/MLassignments/blob/supervisedML/knniris.ipynb\" target=\"_parent\"><img src=\"https://colab.research.google.com/assets/colab-badge.svg\" alt=\"Open In Colab\"/></a>"
      ]
    },
    {
      "cell_type": "code",
      "metadata": {
        "id": "n5YWDWM9cfBa",
        "colab_type": "code",
        "colab": {}
      },
      "source": [
        "from sklearn import datasets"
      ],
      "execution_count": 0,
      "outputs": []
    },
    {
      "cell_type": "code",
      "metadata": {
        "id": "vqEYz6rncme5",
        "colab_type": "code",
        "colab": {
          "base_uri": "https://localhost:8080/",
          "height": 228
        },
        "outputId": "010e1913-3175-44a2-cf05-339077a2077a"
      },
      "source": [
        "[i for i in dir(datasets) if 'load' in i]"
      ],
      "execution_count": 3,
      "outputs": [
        {
          "output_type": "execute_result",
          "data": {
            "text/plain": [
              "['__loader__',\n",
              " 'load_boston',\n",
              " 'load_breast_cancer',\n",
              " 'load_diabetes',\n",
              " 'load_digits',\n",
              " 'load_files',\n",
              " 'load_iris',\n",
              " 'load_linnerud',\n",
              " 'load_sample_image',\n",
              " 'load_sample_images',\n",
              " 'load_svmlight_file',\n",
              " 'load_svmlight_files',\n",
              " 'load_wine']"
            ]
          },
          "metadata": {
            "tags": []
          },
          "execution_count": 3
        }
      ]
    },
    {
      "cell_type": "code",
      "metadata": {
        "id": "rZVxU7rFct5q",
        "colab_type": "code",
        "colab": {}
      },
      "source": [
        "iris_data=datasets.load_iris()\n"
      ],
      "execution_count": 0,
      "outputs": []
    },
    {
      "cell_type": "code",
      "metadata": {
        "id": "9i_N21djgO4a",
        "colab_type": "code",
        "colab": {
          "base_uri": "https://localhost:8080/",
          "height": 33
        },
        "outputId": "6933243f-66e2-4fdf-d2d6-86d094fccf75"
      },
      "source": [
        "# describing iris data internally\n",
        "dir(iris_data)"
      ],
      "execution_count": 6,
      "outputs": [
        {
          "output_type": "execute_result",
          "data": {
            "text/plain": [
              "['DESCR', 'data', 'feature_names', 'filename', 'target', 'target_names']"
            ]
          },
          "metadata": {
            "tags": []
          },
          "execution_count": 6
        }
      ]
    },
    {
      "cell_type": "code",
      "metadata": {
        "id": "XtGUIvLNgia-",
        "colab_type": "code",
        "colab": {
          "base_uri": "https://localhost:8080/",
          "height": 33
        },
        "outputId": "43a51f48-c744-4237-ff74-b1bf17616956"
      },
      "source": [
        "iris_data.target_names"
      ],
      "execution_count": 7,
      "outputs": [
        {
          "output_type": "execute_result",
          "data": {
            "text/plain": [
              "array(['setosa', 'versicolor', 'virginica'], dtype='<U10')"
            ]
          },
          "metadata": {
            "tags": []
          },
          "execution_count": 7
        }
      ]
    },
    {
      "cell_type": "code",
      "metadata": {
        "id": "HHKec0aggsLo",
        "colab_type": "code",
        "colab": {
          "base_uri": "https://localhost:8080/",
          "height": 82
        },
        "outputId": "fda9fcfb-7783-42af-d501-1b3478ae362d"
      },
      "source": [
        "iris_data.feature_names"
      ],
      "execution_count": 8,
      "outputs": [
        {
          "output_type": "execute_result",
          "data": {
            "text/plain": [
              "['sepal length (cm)',\n",
              " 'sepal width (cm)',\n",
              " 'petal length (cm)',\n",
              " 'petal width (cm)']"
            ]
          },
          "metadata": {
            "tags": []
          },
          "execution_count": 8
        }
      ]
    },
    {
      "cell_type": "code",
      "metadata": {
        "id": "OrK7jaUIg5L-",
        "colab_type": "code",
        "colab": {}
      },
      "source": [
        "iris_features = iris_data.data"
      ],
      "execution_count": 0,
      "outputs": []
    },
    {
      "cell_type": "code",
      "metadata": {
        "id": "HX7UGkPOhGT5",
        "colab_type": "code",
        "colab": {}
      },
      "source": [
        "#iris_features"
      ],
      "execution_count": 0,
      "outputs": []
    },
    {
      "cell_type": "code",
      "metadata": {
        "id": "jUSholPYhTt2",
        "colab_type": "code",
        "colab": {}
      },
      "source": [
        "label=iris_data.target"
      ],
      "execution_count": 0,
      "outputs": []
    },
    {
      "cell_type": "code",
      "metadata": {
        "id": "41YYsC_xhykq",
        "colab_type": "code",
        "colab": {}
      },
      "source": [
        "#seperating data into training and test\n",
        "from sklearn.model_selection import train_test_split"
      ],
      "execution_count": 0,
      "outputs": []
    },
    {
      "cell_type": "code",
      "metadata": {
        "id": "gNBlNMesiSqE",
        "colab_type": "code",
        "colab": {}
      },
      "source": [
        "train_data,test_data,train_label,test_label = train_test_split(iris_features,label,test_size=0.2)"
      ],
      "execution_count": 0,
      "outputs": []
    },
    {
      "cell_type": "markdown",
      "metadata": {
        "id": "45Ii0FKchnSg",
        "colab_type": "text"
      },
      "source": [
        "IMPORTING KNN CLASSIFIER"
      ]
    },
    {
      "cell_type": "code",
      "metadata": {
        "id": "9kYz7eRPhxaz",
        "colab_type": "code",
        "colab": {}
      },
      "source": [
        "from sklearn.neighbors import KNeighborsClassifier"
      ],
      "execution_count": 0,
      "outputs": []
    },
    {
      "cell_type": "code",
      "metadata": {
        "id": "pSdRFjjckxcj",
        "colab_type": "code",
        "colab": {}
      },
      "source": [
        "kclf=KNeighborsClassifier(n_neighbors=1)"
      ],
      "execution_count": 0,
      "outputs": []
    },
    {
      "cell_type": "code",
      "metadata": {
        "id": "EjOKK6ZXk7ZS",
        "colab_type": "code",
        "colab": {
          "base_uri": "https://localhost:8080/",
          "height": 66
        },
        "outputId": "faa228b5-6c90-4e1f-c240-6bb5f9ab2d61"
      },
      "source": [
        "kclf.fit(train_data,train_label)"
      ],
      "execution_count": 65,
      "outputs": [
        {
          "output_type": "execute_result",
          "data": {
            "text/plain": [
              "KNeighborsClassifier(algorithm='auto', leaf_size=30, metric='minkowski',\n",
              "                     metric_params=None, n_jobs=None, n_neighbors=1, p=2,\n",
              "                     weights='uniform')"
            ]
          },
          "metadata": {
            "tags": []
          },
          "execution_count": 65
        }
      ]
    },
    {
      "cell_type": "code",
      "metadata": {
        "id": "Eauel9ftlD-g",
        "colab_type": "code",
        "colab": {}
      },
      "source": [
        "ktrained=kclf.fit(train_data,train_label)"
      ],
      "execution_count": 0,
      "outputs": []
    },
    {
      "cell_type": "code",
      "metadata": {
        "id": "rEjAt7sllNdz",
        "colab_type": "code",
        "colab": {}
      },
      "source": [
        "predicted_label=ktrained.predict(test_data)"
      ],
      "execution_count": 0,
      "outputs": []
    },
    {
      "cell_type": "code",
      "metadata": {
        "id": "lU32J0silXE6",
        "colab_type": "code",
        "colab": {
          "base_uri": "https://localhost:8080/",
          "height": 50
        },
        "outputId": "6bea6acb-66eb-4db1-d9ee-3fdef635789e"
      },
      "source": [
        "print(test_label)\n",
        "print(predicted_label)"
      ],
      "execution_count": 68,
      "outputs": [
        {
          "output_type": "stream",
          "text": [
            "[2 2 0 2 1 1 0 2 1 2 2 1 2 1 0 0 2 0 2 1 0 1 1 0 2 0 2 1 2 1]\n",
            "[2 2 0 2 1 1 0 2 1 2 2 1 2 1 0 0 2 0 2 1 0 1 1 0 2 0 2 1 2 1]\n"
          ],
          "name": "stdout"
        }
      ]
    },
    {
      "cell_type": "code",
      "metadata": {
        "id": "eoR5bZdildJi",
        "colab_type": "code",
        "colab": {}
      },
      "source": [
        "from sklearn.metrics import accuracy_score"
      ],
      "execution_count": 0,
      "outputs": []
    },
    {
      "cell_type": "code",
      "metadata": {
        "id": "IrVxXhZDly72",
        "colab_type": "code",
        "colab": {
          "base_uri": "https://localhost:8080/",
          "height": 33
        },
        "outputId": "9c4cf78c-e10a-4b25-e1c4-856a22ad13b6"
      },
      "source": [
        "acrknn=accuracy_score(test_label,predicted_label)\n",
        "acrknn"
      ],
      "execution_count": 70,
      "outputs": [
        {
          "output_type": "execute_result",
          "data": {
            "text/plain": [
              "1.0"
            ]
          },
          "metadata": {
            "tags": []
          },
          "execution_count": 70
        }
      ]
    },
    {
      "cell_type": "code",
      "metadata": {
        "id": "2q9XlA14l_Px",
        "colab_type": "code",
        "colab": {}
      },
      "source": [
        "# calling dec tree classi\n",
        "from sklearn.tree import DecisionTreeClassifier\n",
        "dclf=DecisionTreeClassifier()"
      ],
      "execution_count": 0,
      "outputs": []
    },
    {
      "cell_type": "code",
      "metadata": {
        "id": "WReSYbITmSuQ",
        "colab_type": "code",
        "colab": {}
      },
      "source": [
        "dtrained=dclf.fit(train_data,train_label)"
      ],
      "execution_count": 0,
      "outputs": []
    },
    {
      "cell_type": "code",
      "metadata": {
        "id": "6Ezi2pBNmXau",
        "colab_type": "code",
        "colab": {}
      },
      "source": [
        "dpredict_label=dtrained.predict(test_data)"
      ],
      "execution_count": 0,
      "outputs": []
    },
    {
      "cell_type": "code",
      "metadata": {
        "id": "JzBldjOCme4y",
        "colab_type": "code",
        "colab": {}
      },
      "source": [
        "daccuracy=accuracy_score(test_label,dpredict_label)"
      ],
      "execution_count": 0,
      "outputs": []
    },
    {
      "cell_type": "code",
      "metadata": {
        "id": "6q59PiULmptm",
        "colab_type": "code",
        "colab": {
          "base_uri": "https://localhost:8080/",
          "height": 33
        },
        "outputId": "d21a2f27-154d-46f4-e8fb-f3888e265cdd"
      },
      "source": [
        "print(daccuracy)"
      ],
      "execution_count": 75,
      "outputs": [
        {
          "output_type": "stream",
          "text": [
            "1.0\n"
          ],
          "name": "stdout"
        }
      ]
    },
    {
      "cell_type": "code",
      "metadata": {
        "id": "p2K5CrdmmtXz",
        "colab_type": "code",
        "colab": {}
      },
      "source": [
        "#comparing decision tree and KNN\n",
        "import matplotlib.pyplot as plt"
      ],
      "execution_count": 0,
      "outputs": []
    },
    {
      "cell_type": "code",
      "metadata": {
        "id": "w0eMBjeOnHdR",
        "colab_type": "code",
        "colab": {}
      },
      "source": [
        ""
      ],
      "execution_count": 0,
      "outputs": []
    }
  ]
}