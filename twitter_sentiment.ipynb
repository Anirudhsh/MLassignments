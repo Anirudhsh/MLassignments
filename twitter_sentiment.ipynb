{
  "nbformat": 4,
  "nbformat_minor": 0,
  "metadata": {
    "colab": {
      "name": "twitter_sentiment.ipynb",
      "version": "0.3.2",
      "provenance": [],
      "collapsed_sections": [],
      "include_colab_link": true
    },
    "kernelspec": {
      "name": "python3",
      "display_name": "Python 3"
    }
  },
  "cells": [
    {
      "cell_type": "markdown",
      "metadata": {
        "id": "view-in-github",
        "colab_type": "text"
      },
      "source": [
        "<a href=\"https://colab.research.google.com/github/Anirudhsh/MLassignments/blob/master/twitter_sentiment.ipynb\" target=\"_parent\"><img src=\"https://colab.research.google.com/assets/colab-badge.svg\" alt=\"Open In Colab\"/></a>"
      ]
    },
    {
      "cell_type": "code",
      "metadata": {
        "id": "X1gAwPYPLyDz",
        "colab_type": "code",
        "colab": {}
      },
      "source": [
        "import tweepy\n",
        "import matplotlib.pyplot as plt\n",
        "from textblob import TextBlob"
      ],
      "execution_count": 0,
      "outputs": []
    },
    {
      "cell_type": "code",
      "metadata": {
        "id": "AufKuSN_P66g",
        "colab_type": "code",
        "colab": {}
      },
      "source": [
        "consumer_key=\"mqD02adXsDefZqwfCFBSHe50N\"\n",
        "consumer_sec=\"RNEGzp0PTrOxFUiZ2CdYEgpZgoJmiTFchOTcEBTjkVJyYJx2Xq\"\n",
        "access_token=\"3237471037-kJlEfhsYerxq03UTLnsdoHlU35Cdv4Pu8ihwUfs\"\n",
        "access_sec=\"FVSLLp0vkpZorT4a1oviZQqG55kmSxcjqSNWOCMUuTh3a\"\n",
        "auth=tweepy.OAuthHandler(consumer_key,consumer_sec)"
      ],
      "execution_count": 0,
      "outputs": []
    },
    {
      "cell_type": "code",
      "metadata": {
        "id": "O6kr3e4SQwhg",
        "colab_type": "code",
        "colab": {}
      },
      "source": [
        "auth.set_access_token(access_token,access_sec)"
      ],
      "execution_count": 0,
      "outputs": []
    },
    {
      "cell_type": "code",
      "metadata": {
        "id": "45fpdKjoQ7w9",
        "colab_type": "code",
        "colab": {}
      },
      "source": [
        "api_conn = tweepy.API(auth)"
      ],
      "execution_count": 0,
      "outputs": []
    },
    {
      "cell_type": "code",
      "metadata": {
        "id": "07nXB0olREMd",
        "colab_type": "code",
        "colab": {}
      },
      "source": [
        "  #specify keyword or sentence for analysis \n",
        "  twitter_data=api_conn.search('modi',count=1000)"
      ],
      "execution_count": 0,
      "outputs": []
    },
    {
      "cell_type": "code",
      "metadata": {
        "id": "ILk4C099RyRz",
        "colab_type": "code",
        "colab": {}
      },
      "source": [
        "#twitter_data"
      ],
      "execution_count": 0,
      "outputs": []
    },
    {
      "cell_type": "code",
      "metadata": {
        "id": "ueqqWx1cRzse",
        "colab_type": "code",
        "colab": {
          "base_uri": "https://localhost:8080/",
          "height": 1000
        },
        "outputId": "a047a131-c8bc-4fcf-bf38-f3e62612b701"
      },
      "source": [
        "pos=0\n",
        "neg=0\n",
        "neu=0\n",
        "#printing line by line \n",
        "for tweet in twitter_data:\n",
        "  analysis = TextBlob(tweet.text)\n",
        "  print(analysis.sentiment)\n",
        "  if analysis.sentiment.polarity>0:\n",
        "    print(\"positive\")\n",
        "    pos+=1\n",
        "  elif analysis.sentiment.polarity<0:\n",
        "    print(\"negative\")\n",
        "    neg+=1\n",
        "  else:\n",
        "    print(\"neutral\")\n",
        "    neu+=1\n",
        "  \n",
        "    "
      ],
      "execution_count": 62,
      "outputs": [
        {
          "output_type": "stream",
          "text": [
            "Sentiment(polarity=0.0, subjectivity=0.0)\n",
            "neutral\n",
            "Sentiment(polarity=0.2, subjectivity=0.2)\n",
            "positive\n",
            "Sentiment(polarity=1.0, subjectivity=0.3)\n",
            "positive\n",
            "Sentiment(polarity=0.05, subjectivity=1.0)\n",
            "positive\n",
            "Sentiment(polarity=0.375, subjectivity=0.75)\n",
            "positive\n",
            "Sentiment(polarity=0.5, subjectivity=0.5)\n",
            "positive\n",
            "Sentiment(polarity=0.0, subjectivity=0.0)\n",
            "neutral\n",
            "Sentiment(polarity=0.0, subjectivity=0.1)\n",
            "neutral\n",
            "Sentiment(polarity=0.0, subjectivity=0.0)\n",
            "neutral\n",
            "Sentiment(polarity=-0.012500000000000011, subjectivity=0.65)\n",
            "negative\n",
            "Sentiment(polarity=0.0, subjectivity=0.0)\n",
            "neutral\n",
            "Sentiment(polarity=0.0, subjectivity=0.0)\n",
            "neutral\n",
            "Sentiment(polarity=0.0, subjectivity=0.1)\n",
            "neutral\n",
            "Sentiment(polarity=0.0, subjectivity=0.0)\n",
            "neutral\n",
            "Sentiment(polarity=0.0, subjectivity=0.0)\n",
            "neutral\n",
            "Sentiment(polarity=0.13636363636363635, subjectivity=0.45454545454545453)\n",
            "positive\n",
            "Sentiment(polarity=-0.9, subjectivity=0.9)\n",
            "negative\n",
            "Sentiment(polarity=0.5, subjectivity=0.5)\n",
            "positive\n",
            "Sentiment(polarity=0.0, subjectivity=0.06666666666666667)\n",
            "neutral\n",
            "Sentiment(polarity=0.0, subjectivity=0.0)\n",
            "neutral\n",
            "Sentiment(polarity=0.2, subjectivity=0.3)\n",
            "positive\n",
            "Sentiment(polarity=0.0, subjectivity=0.0)\n",
            "neutral\n",
            "Sentiment(polarity=0.0, subjectivity=0.0)\n",
            "neutral\n",
            "Sentiment(polarity=0.0, subjectivity=0.0)\n",
            "neutral\n",
            "Sentiment(polarity=0.0, subjectivity=0.0)\n",
            "neutral\n",
            "Sentiment(polarity=0.0, subjectivity=0.0)\n",
            "neutral\n",
            "Sentiment(polarity=0.0, subjectivity=0.0)\n",
            "neutral\n",
            "Sentiment(polarity=0.0, subjectivity=0.0)\n",
            "neutral\n",
            "Sentiment(polarity=0.0, subjectivity=0.0)\n",
            "neutral\n",
            "Sentiment(polarity=0.0, subjectivity=0.0)\n",
            "neutral\n",
            "Sentiment(polarity=0.0, subjectivity=0.0)\n",
            "neutral\n",
            "Sentiment(polarity=-0.3, subjectivity=0.7999999999999999)\n",
            "negative\n",
            "Sentiment(polarity=0.0, subjectivity=0.0)\n",
            "neutral\n",
            "Sentiment(polarity=0.26666666666666666, subjectivity=0.5)\n",
            "positive\n",
            "Sentiment(polarity=0.0, subjectivity=0.0)\n",
            "neutral\n",
            "Sentiment(polarity=1.0, subjectivity=0.3)\n",
            "positive\n",
            "Sentiment(polarity=-0.2583333333333333, subjectivity=0.35833333333333334)\n",
            "negative\n",
            "Sentiment(polarity=0.0, subjectivity=0.0)\n",
            "neutral\n",
            "Sentiment(polarity=0.0, subjectivity=0.0)\n",
            "neutral\n",
            "Sentiment(polarity=0.0, subjectivity=0.0)\n",
            "neutral\n",
            "Sentiment(polarity=0.0, subjectivity=0.0)\n",
            "neutral\n",
            "Sentiment(polarity=0.25, subjectivity=0.25)\n",
            "positive\n",
            "Sentiment(polarity=0.0, subjectivity=0.0)\n",
            "neutral\n",
            "Sentiment(polarity=0.2, subjectivity=0.3)\n",
            "positive\n",
            "Sentiment(polarity=-0.5, subjectivity=0.9)\n",
            "negative\n",
            "Sentiment(polarity=0.0, subjectivity=0.0)\n",
            "neutral\n",
            "Sentiment(polarity=0.0, subjectivity=0.0)\n",
            "neutral\n",
            "Sentiment(polarity=0.8, subjectivity=0.75)\n",
            "positive\n",
            "Sentiment(polarity=0.0, subjectivity=0.0)\n",
            "neutral\n",
            "Sentiment(polarity=0.0, subjectivity=0.0)\n",
            "neutral\n",
            "Sentiment(polarity=0.0, subjectivity=0.0)\n",
            "neutral\n",
            "Sentiment(polarity=0.0, subjectivity=0.0)\n",
            "neutral\n",
            "Sentiment(polarity=0.2, subjectivity=0.2)\n",
            "positive\n",
            "Sentiment(polarity=0.0, subjectivity=0.0)\n",
            "neutral\n",
            "Sentiment(polarity=0.0, subjectivity=0.0)\n",
            "neutral\n",
            "Sentiment(polarity=0.0, subjectivity=0.0)\n",
            "neutral\n",
            "Sentiment(polarity=0.2, subjectivity=0.3)\n",
            "positive\n",
            "Sentiment(polarity=0.0, subjectivity=0.0)\n",
            "neutral\n",
            "Sentiment(polarity=0.75, subjectivity=0.95)\n",
            "positive\n",
            "Sentiment(polarity=0.0, subjectivity=0.13125)\n",
            "neutral\n",
            "Sentiment(polarity=0.5, subjectivity=1.0)\n",
            "positive\n",
            "Sentiment(polarity=-0.5, subjectivity=1.0)\n",
            "negative\n",
            "Sentiment(polarity=0.0, subjectivity=1.0)\n",
            "neutral\n",
            "Sentiment(polarity=0.0, subjectivity=0.0)\n",
            "neutral\n",
            "Sentiment(polarity=0.375, subjectivity=0.75)\n",
            "positive\n",
            "Sentiment(polarity=0.0, subjectivity=0.1)\n",
            "neutral\n",
            "Sentiment(polarity=0.0, subjectivity=0.0)\n",
            "neutral\n",
            "Sentiment(polarity=0.375, subjectivity=0.75)\n",
            "positive\n",
            "Sentiment(polarity=0.45, subjectivity=0.75)\n",
            "positive\n",
            "Sentiment(polarity=0.0, subjectivity=0.0)\n",
            "neutral\n",
            "Sentiment(polarity=0.02500000000000001, subjectivity=0.3)\n",
            "positive\n",
            "Sentiment(polarity=0.13636363636363635, subjectivity=0.45454545454545453)\n",
            "positive\n",
            "Sentiment(polarity=0.0, subjectivity=0.0)\n",
            "neutral\n"
          ],
          "name": "stdout"
        }
      ]
    },
    {
      "cell_type": "code",
      "metadata": {
        "id": "bAEVXcsUTfBx",
        "colab_type": "code",
        "colab": {
          "base_uri": "https://localhost:8080/",
          "height": 285
        },
        "outputId": "01b930e1-e90b-492d-f5c5-66158c114428"
      },
      "source": [
        "\n",
        "plt.bar(['pos','neg','neu'],[pos,neg,neu])"
      ],
      "execution_count": 63,
      "outputs": [
        {
          "output_type": "execute_result",
          "data": {
            "text/plain": [
              "<BarContainer object of 3 artists>"
            ]
          },
          "metadata": {
            "tags": []
          },
          "execution_count": 63
        },
        {
          "output_type": "display_data",
          "data": {
            "image/png": "[encoded data removed]",
            "text/plain": [
              "<Figure size 432x288 with 1 Axes>"
            ]
          },
          "metadata": {
            "tags": []
          }
        }
      ]
    },
    {
      "cell_type": "code",
      "metadata": {
        "id": "3INtSbZmT2hz",
        "colab_type": "code",
        "colab": {}
      },
      "source": [
        ""
      ],
      "execution_count": 0,
      "outputs": []
    }
  ]
}