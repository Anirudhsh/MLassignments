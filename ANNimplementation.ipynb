{
  "nbformat": 4,
  "nbformat_minor": 0,
  "metadata": {
    "colab": {
      "name": "ANNimplementation.ipynb",
      "version": "0.3.2",
      "provenance": [],
      "private_outputs": true,
      "include_colab_link": true
    },
    "kernelspec": {
      "name": "python3",
      "display_name": "Python 3"
    }
  },
  "cells": [
    {
      "cell_type": "markdown",
      "metadata": {
        "id": "view-in-github",
        "colab_type": "text"
      },
      "source": [
        "<a href=\"https://colab.research.google.com/github/Anirudhsh/MLassignments/blob/master/ANNimplementation.ipynb\" target=\"_parent\"><img src=\"https://colab.research.google.com/assets/colab-badge.svg\" alt=\"Open In Colab\"/></a>"
      ]
    },
    {
      "cell_type": "code",
      "metadata": {
        "id": "WHtGR0FhtRXa",
        "colab_type": "code",
        "colab": {}
      },
      "source": [
        "#loading data via pandas\n",
        "import pandas as pd"
      ],
      "execution_count": 0,
      "outputs": []
    },
    {
      "cell_type": "code",
      "metadata": {
        "id": "4-UFOnIYwaXa",
        "colab_type": "code",
        "colab": {}
      },
      "source": [
        "df = pd.read_csv(\"bank.csv\")"
      ],
      "execution_count": 0,
      "outputs": []
    },
    {
      "cell_type": "code",
      "metadata": {
        "id": "PTNAt1sNwe6M",
        "colab_type": "code",
        "colab": {}
      },
      "source": [
        "#schema\n",
        "df.info()\n"
      ],
      "execution_count": 0,
      "outputs": []
    },
    {
      "cell_type": "code",
      "metadata": {
        "id": "S68gGNzR6Y3I",
        "colab_type": "code",
        "colab": {}
      },
      "source": [
        "#removing data\n",
        "features = df.iloc[:,3:13].values"
      ],
      "execution_count": 0,
      "outputs": []
    },
    {
      "cell_type": "code",
      "metadata": {
        "id": "LJllBSiy6iZ8",
        "colab_type": "code",
        "colab": {}
      },
      "source": [
        "features.shape"
      ],
      "execution_count": 0,
      "outputs": []
    },
    {
      "cell_type": "code",
      "metadata": {
        "id": "cS1mlwZ56kM9",
        "colab_type": "code",
        "colab": {}
      },
      "source": [
        "label = df.iloc[:,13].values"
      ],
      "execution_count": 0,
      "outputs": []
    },
    {
      "cell_type": "code",
      "metadata": {
        "id": "jbVyqboq6qFl",
        "colab_type": "code",
        "colab": {}
      },
      "source": [
        "label"
      ],
      "execution_count": 0,
      "outputs": []
    },
    {
      "cell_type": "code",
      "metadata": {
        "id": "gP6uAX4I6rIQ",
        "colab_type": "code",
        "colab": {}
      },
      "source": [
        "from sklearn.preprocessing import LabelEncoder,OneHotEncoder"
      ],
      "execution_count": 0,
      "outputs": []
    },
    {
      "cell_type": "code",
      "metadata": {
        "id": "jqE8xI3g60B0",
        "colab_type": "code",
        "colab": {}
      },
      "source": [
        "lbe = LabelEncoder()"
      ],
      "execution_count": 0,
      "outputs": []
    },
    {
      "cell_type": "code",
      "metadata": {
        "id": "JN_9nsAI695H",
        "colab_type": "code",
        "colab": {}
      },
      "source": [
        "features[0:,2] = lbe.fit_transform(features[0:,2])"
      ],
      "execution_count": 0,
      "outputs": []
    },
    {
      "cell_type": "code",
      "metadata": {
        "id": "8Aq56XbZ7Mfj",
        "colab_type": "code",
        "colab": {}
      },
      "source": [
        "features[0:,1] = lbe.fit_transform(features[0:,1])"
      ],
      "execution_count": 0,
      "outputs": []
    },
    {
      "cell_type": "code",
      "metadata": {
        "id": "40vwdMnX7QYb",
        "colab_type": "code",
        "colab": {}
      },
      "source": [
        "ohe = OneHotEncoder(categorical_features=[1])"
      ],
      "execution_count": 0,
      "outputs": []
    },
    {
      "cell_type": "code",
      "metadata": {
        "id": "6iGaR-q67hpR",
        "colab_type": "code",
        "colab": {}
      },
      "source": [
        "features = ohe.fit_transform(features).toarray()\n",
        "features=features[0:,1:]"
      ],
      "execution_count": 0,
      "outputs": []
    },
    {
      "cell_type": "code",
      "metadata": {
        "id": "sC6Y8DXj7sUC",
        "colab_type": "code",
        "colab": {}
      },
      "source": [
        "from sklearn.model_selection import train_test_split"
      ],
      "execution_count": 0,
      "outputs": []
    },
    {
      "cell_type": "code",
      "metadata": {
        "id": "ydzstgCk72yp",
        "colab_type": "code",
        "colab": {}
      },
      "source": [
        "X,x,Y,y = train_test_split(features,label,test_size=0.2)"
      ],
      "execution_count": 0,
      "outputs": []
    },
    {
      "cell_type": "code",
      "metadata": {
        "id": "6WdlTfBf-Lre",
        "colab_type": "code",
        "colab": {}
      },
      "source": [
        "features.astype('int32')"
      ],
      "execution_count": 0,
      "outputs": []
    },
    {
      "cell_type": "code",
      "metadata": {
        "id": "3qVQrsx2-bzv",
        "colab_type": "code",
        "colab": {}
      },
      "source": [
        "from sklearn.preprocessing import StandardScaler"
      ],
      "execution_count": 0,
      "outputs": []
    },
    {
      "cell_type": "code",
      "metadata": {
        "id": "UYAr5HW1B9Ji",
        "colab_type": "code",
        "colab": {}
      },
      "source": [
        "sc=StandardScaler()"
      ],
      "execution_count": 0,
      "outputs": []
    },
    {
      "cell_type": "code",
      "metadata": {
        "id": "28-XR8QPCDde",
        "colab_type": "code",
        "colab": {}
      },
      "source": [
        "X=sc.fit_transform(X)"
      ],
      "execution_count": 0,
      "outputs": []
    },
    {
      "cell_type": "code",
      "metadata": {
        "id": "TTiSXiXGCHko",
        "colab_type": "code",
        "colab": {}
      },
      "source": [
        "x=sc.transform(x)"
      ],
      "execution_count": 0,
      "outputs": []
    },
    {
      "cell_type": "code",
      "metadata": {
        "id": "vQjLsc9mCOOt",
        "colab_type": "code",
        "colab": {}
      },
      "source": [
        "X.shape"
      ],
      "execution_count": 0,
      "outputs": []
    },
    {
      "cell_type": "markdown",
      "metadata": {
        "id": "CNKqLVuLCgbF",
        "colab_type": "text"
      },
      "source": [
        "# NOW WE CAN CREATE ANN MODEL"
      ]
    },
    {
      "cell_type": "code",
      "metadata": {
        "id": "KnYRDVR2CXJ_",
        "colab_type": "code",
        "colab": {}
      },
      "source": [
        "import keras #helps us use tensorflow in background"
      ],
      "execution_count": 0,
      "outputs": []
    },
    {
      "cell_type": "code",
      "metadata": {
        "id": "3ctXCp-6Cuuo",
        "colab_type": "code",
        "colab": {}
      },
      "source": [
        "# keras ANN model library import"
      ],
      "execution_count": 0,
      "outputs": []
    },
    {
      "cell_type": "code",
      "metadata": {
        "id": "ijboOWg-C9Ng",
        "colab_type": "code",
        "colab": {}
      },
      "source": [
        "from keras.models import Sequential"
      ],
      "execution_count": 0,
      "outputs": []
    },
    {
      "cell_type": "code",
      "metadata": {
        "id": "HWTiNMRYDSga",
        "colab_type": "code",
        "colab": {}
      },
      "source": [
        "#filling data in each layer"
      ],
      "execution_count": 0,
      "outputs": []
    },
    {
      "cell_type": "code",
      "metadata": {
        "id": "_E1jsX-LDXWm",
        "colab_type": "code",
        "colab": {}
      },
      "source": [
        "from keras.layers import Dense"
      ],
      "execution_count": 0,
      "outputs": []
    },
    {
      "cell_type": "code",
      "metadata": {
        "id": "TlHX5lDhDa-l",
        "colab_type": "code",
        "colab": {}
      },
      "source": [
        "#now we can design model\n",
        "model = Sequential()"
      ],
      "execution_count": 0,
      "outputs": []
    },
    {
      "cell_type": "code",
      "metadata": {
        "id": "OO6BVTiNEEkT",
        "colab_type": "code",
        "colab": {}
      },
      "source": [
        "model.add(Dense(6,input_shape=(11,),activation=\"relu\")) #First hidden Layer\n",
        "#relu is rectifier"
      ],
      "execution_count": 0,
      "outputs": []
    },
    {
      "cell_type": "code",
      "metadata": {
        "id": "iqdBcvx1Fbg8",
        "colab_type": "code",
        "colab": {}
      },
      "source": [
        "#adding one more hidden layer\n",
        "model.add(Dense(6,activation=\"relu\"))\n",
        "#no need to assign input_shape"
      ],
      "execution_count": 0,
      "outputs": []
    },
    {
      "cell_type": "code",
      "metadata": {
        "id": "vC7KsBm7HOZy",
        "colab_type": "code",
        "colab": {}
      },
      "source": [
        "model.add(Dense(1,activation=\"sigmoid\"))"
      ],
      "execution_count": 0,
      "outputs": []
    },
    {
      "cell_type": "code",
      "metadata": {
        "id": "-0gsWP-wHvJa",
        "colab_type": "code",
        "colab": {}
      },
      "source": [
        "#compile\n",
        "model.compile(optimizer='adam',loss='binary_crossentropy',metrics=['accuracy'])\n",
        "# optimizer  --weight change gd('adam')"
      ],
      "execution_count": 0,
      "outputs": []
    },
    {
      "cell_type": "code",
      "metadata": {
        "id": "4MJbkCD3HylB",
        "colab_type": "code",
        "colab": {}
      },
      "source": [
        "# training data fit\n",
        "model.fit(X,Y,batch_size=1500,epochs=100)"
      ],
      "execution_count": 0,
      "outputs": []
    },
    {
      "cell_type": "code",
      "metadata": {
        "id": "lvRg72brKNIF",
        "colab_type": "code",
        "colab": {}
      },
      "source": [
        "model.predict(x)"
      ],
      "execution_count": 0,
      "outputs": []
    },
    {
      "cell_type": "code",
      "metadata": {
        "id": "8-uU80hEM_VP",
        "colab_type": "code",
        "colab": {}
      },
      "source": [
        ""
      ],
      "execution_count": 0,
      "outputs": []
    }
  ]
}